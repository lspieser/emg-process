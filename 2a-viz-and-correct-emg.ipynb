{
 "cells": [
  {
   "cell_type": "markdown",
   "metadata": {},
   "source": [
    "Make the import"
   ]
  },
  {
   "cell_type": "code",
   "execution_count": null,
   "metadata": {},
   "outputs": [],
   "source": [
    "import os\n",
    "import logging\n",
    "import sys\n",
    "import numpy as np\n",
    "import mne\n",
    "import myonset as myo"
   ]
  },
  {
   "cell_type": "markdown",
   "metadata": {},
   "source": [
    "Set the path"
   ]
  },
  {
   "cell_type": "code",
   "execution_count": null,
   "metadata": {},
   "outputs": [],
   "source": [
    "# where bdf data is\n",
    "#path_bdf = os.path.join('.','bdf')\n",
    "path_bdf = os.path.join('.')\n",
    "\n",
    "# where automatic markers file is \n",
    "#path_mrk = os.path.join('.','automatic_detection')\n",
    "path_mrk = os.path.join('.')\n",
    "\n",
    "# where you want to save the corrected markers\n",
    "#path_corrected_mrk = os.path.join('.','corrected_detection')\n",
    "path_corrected_mrk = os.path.join('.')\n"
   ]
  },
  {
   "cell_type": "markdown",
   "metadata": {},
   "source": [
    "Set trigger id values "
   ]
  },
  {
   "cell_type": "code",
   "execution_count": null,
   "metadata": {},
   "outputs": [],
   "source": [
    "#triggers values used for trial segmentation (e.g., stimulus or fixation cross)\n",
    "stim_id = {'red_left':    12,\\\n",
    "           'red_right':   22,\\\n",
    "           'green_left':  11,\\\n",
    "           'green_right': 21}\n",
    "\n",
    "#triggers values used for detected onset, offset and peak events\n",
    "emg_id = {'onset': 131, 'offset': 132, 'peak': 133}\n",
    "\n",
    "# list of response triggers, used to remove bursts detected after response \n",
    "resp_list =  [100,200] "
   ]
  },
  {
   "cell_type": "markdown",
   "metadata": {},
   "source": [
    "# Load the BDF file"
   ]
  },
  {
   "cell_type": "markdown",
   "metadata": {},
   "source": [
    "Set EMG file name"
   ]
  },
  {
   "cell_type": "code",
   "execution_count": null,
   "metadata": {},
   "outputs": [],
   "source": [
    "name_bdf = 's1.bdf'"
   ]
  },
  {
   "cell_type": "markdown",
   "metadata": {},
   "source": [
    "Extract file name and create log file"
   ]
  },
  {
   "cell_type": "code",
   "execution_count": null,
   "metadata": {},
   "outputs": [],
   "source": [
    "nameSubj = name_bdf.split('.')[0]\n",
    "fname = os.path.join(path_bdf,name_bdf)\n",
    "\n",
    "logName = os.path.join(path_bdf,nameSubj + '.log')\n",
    "logging.basicConfig(filename=logName, level=logging.INFO) # needed in jupyter notebook\n",
    "myo.set_log_file(logName,overwrite=False)\n",
    "logging.info(\"Correction of automatic onsets/offsets detection:\")"
   ]
  },
  {
   "cell_type": "markdown",
   "metadata": {},
   "source": [
    "Load raw data"
   ]
  },
  {
   "cell_type": "code",
   "execution_count": null,
   "metadata": {
    "scrolled": true
   },
   "outputs": [],
   "source": [
    "raw = mne.io.read_raw_bdf(fname, preload=True, stim_channel='Status')"
   ]
  },
  {
   "cell_type": "markdown",
   "metadata": {},
   "source": [
    "# Pre-process signal\n",
    "(Should  be identical to detectEMG preprocessing)"
   ]
  },
  {
   "cell_type": "markdown",
   "metadata": {},
   "source": [
    "EMG bipolar reference"
   ]
  },
  {
   "cell_type": "code",
   "execution_count": null,
   "metadata": {
    "scrolled": true
   },
   "outputs": [],
   "source": [
    "mne.set_bipolar_reference(raw,anode=['EXG1','EXG3'], cathode=['EXG2','EXG4'],ch_name=['EMG_L','EMG_R'],\\\n",
    "copy=False)"
   ]
  },
  {
   "cell_type": "markdown",
   "metadata": {},
   "source": [
    "Set channels"
   ]
  },
  {
   "cell_type": "code",
   "execution_count": null,
   "metadata": {},
   "outputs": [],
   "source": [
    "raw.pick(['EMG_L','EMG_R'])\n",
    "raw.set_channel_types({'EMG_L':'emg',\n",
    "                       'EMG_R':'emg'\n",
    "                       })\n",
    "\n",
    "emg_channels_idx = {0: 'EMG_L', 1: 'EMG_R'}\n",
    "channel_names = list(emg_channels_idx.values())"
   ]
  },
  {
   "cell_type": "markdown",
   "metadata": {},
   "source": [
    "Filter EMG and force signals"
   ]
  },
  {
   "cell_type": "code",
   "execution_count": null,
   "metadata": {},
   "outputs": [],
   "source": [
    "raw = myo.use_mne.apply_filter(raw, ch_names = ['EMG_L','EMG_R'],low_cutoff = 10)\n",
    "logging.info(\"\\tHigh pass filtering of EMG traces at 10Hz\")"
   ]
  },
  {
   "cell_type": "markdown",
   "metadata": {},
   "source": [
    "Get pre-processed raw data"
   ]
  },
  {
   "cell_type": "code",
   "execution_count": null,
   "metadata": {},
   "outputs": [],
   "source": [
    "data = raw.get_data(channel_names)"
   ]
  },
  {
   "cell_type": "markdown",
   "metadata": {},
   "source": [
    "# Load automatic detection events and segment"
   ]
  },
  {
   "cell_type": "markdown",
   "metadata": {},
   "source": [
    "Load events"
   ]
  },
  {
   "cell_type": "code",
   "execution_count": null,
   "metadata": {
    "scrolled": true
   },
   "outputs": [],
   "source": [
    "fname_mrk = os.path.join(path_mrk, nameSubj+'_detect_emg.csv') \n",
    "#fname_mrk = os.path.join(path_corrected_mrk, nameSubj+'_corrected_evts.csv') \n",
    "events = myo.load_continuous(fname_mrk,\\\n",
    "                             col_sample=0, col_code=2, col_chan=3,\\\n",
    "                             sf=raw.info['sfreq'])\n",
    "logging.info(\"\\tLoad events from \" + fname_mrk)"
   ]
  },
  {
   "cell_type": "markdown",
   "metadata": {},
   "source": [
    "Define segmentation window"
   ]
  },
  {
   "cell_type": "code",
   "execution_count": null,
   "metadata": {},
   "outputs": [],
   "source": [
    "tmin = -.5\n",
    "tmax = 1.5\n",
    "code_t0 = list(stim_id.values())"
   ]
  },
  {
   "cell_type": "markdown",
   "metadata": {},
   "source": [
    "# Start visualization application"
   ]
  },
  {
   "cell_type": "markdown",
   "metadata": {},
   "source": [
    " **!!! IMPORTANT !!!**\n",
    " \n",
    " Do not run the cell below twice, this would cause your kernel stop working. If you have closed viz window and want to see it again, just run the command viz.show() (next cell)."
   ]
  },
  {
   "cell_type": "code",
   "execution_count": null,
   "metadata": {},
   "outputs": [],
   "source": [
    "viz = myo.Viz(sys.argv)\n",
    "viz.load_data(data, events, code_t0,\\\n",
    "              tmin=tmin, tmax=tmax,\\\n",
    "              code_movable_1=emg_id['onset'], code_movable_2=emg_id['offset'],\\\n",
    "              sync_chan=[[0,1],[0,1],[2,3],[2,3]],random_order=False)"
   ]
  },
  {
   "cell_type": "markdown",
   "metadata": {},
   "source": [
    "# Open viz window for correction"
   ]
  },
  {
   "cell_type": "markdown",
   "metadata": {},
   "source": [
    "A complete description is available in vizEMG guide, here is a reminder of useful commands:\n",
    "* Below signals, use the ‘Navig.’ tab to navigate across trials, and the ‘Config.’ tab to configurate data views and key shortcuts to jump to next/previous trial,\n",
    "* Use left and right mouse clicks in data view windows or data axis to pan and zoom in and out signals,\n",
    "* Vertical lines show marker events. Fixed events are displayed in yellow, no interaction is possible with those. Dark and light blue lines show events resulting from onset and offset automatic detection. With those, you can:\n",
    "    * left click on the marker + drag to adjust event time position,\n",
    "    * right click on the marker to suppress the event,\n",
    "    * Ctrl key + left click to add an onset (dark blue) event,\n",
    "    * Ctrkey + right click to add an offset (light blue) event.\n",
    "* Markers modifications are automatically validated by jumping to a new trial."
   ]
  },
  {
   "cell_type": "code",
   "execution_count": null,
   "metadata": {
    "scrolled": true
   },
   "outputs": [],
   "source": [
    "viz.show()"
   ]
  },
  {
   "cell_type": "markdown",
   "metadata": {},
   "source": [
    "# Extract corrected events and save"
   ]
  },
  {
   "cell_type": "code",
   "execution_count": null,
   "metadata": {},
   "outputs": [],
   "source": [
    "corrected_events = viz.get_events()"
   ]
  },
  {
   "cell_type": "markdown",
   "metadata": {},
   "source": [
    "Check that we have the same number of onset and offset everywhere. To skip this step, uncomment the two next cells."
   ]
  },
  {
   "cell_type": "code",
   "execution_count": null,
   "metadata": {},
   "outputs": [],
   "source": [
    "corrected_epochs_events = corrected_events.segment(code_t0=code_t0)"
   ]
  },
  {
   "cell_type": "code",
   "execution_count": null,
   "metadata": {},
   "outputs": [],
   "source": [
    "to_print = []\n",
    "\n",
    "for t in range(corrected_epochs_events.nb_trials()):\n",
    "    for c in range(data.shape[0]):\n",
    "        \n",
    "        tmin = corrected_epochs_events.tmin.time[t]\n",
    "        if t < corrected_epochs_events.nb_trials()-1:\n",
    "            tmax = corrected_epochs_events.tmin.time[t+1]\n",
    "        else: tmax = data.shape[1] \n",
    "            \n",
    "        onsets = corrected_events.find_and_get_events(code=emg_id['onset'], chan=c, tmin=tmin, tmax=tmax, print_find_evt=False)\n",
    "        offsets = corrected_events.find_and_get_events(code=emg_id['offset'], chan=c, tmin=tmin, tmax=tmax,print_find_evt=False)\n",
    "        \n",
    "        if (onsets.nb_events() != offsets.nb_events()) or ((offsets.lat.time - onsets.lat.time) < 0).any():\n",
    "#            to_print.append((('Trial {} on channel {} does not have same number of onset and offset, please correct!').format(t,c)))\n",
    "            to_print.append((('Trial {} on channel {} does not have same number of onset and offset: onsets at {} offsets at {}')\\\n",
    "                              .format(t,c,onsets.lat.time-corrected_epochs_events.tmin.time[t],offsets.lat.time-corrected_epochs_events.tmin.time[t])))\n",
    "\n",
    "if len(to_print) > 0:\n",
    "    print(to_print)\n",
    "    viz.show()"
   ]
  },
  {
   "cell_type": "markdown",
   "metadata": {},
   "source": [
    "# Do not forget to SAVE corrected events !"
   ]
  },
  {
   "cell_type": "code",
   "execution_count": null,
   "metadata": {},
   "outputs": [],
   "source": [
    "corrected_events = viz.get_events()\n",
    "corrected_events.to_csv(os.path.join(path_corrected_mrk,nameSubj +'_corrected_evts.csv'),\\\n",
    "                        header=\"sample,time,code,chan\",\\\n",
    "                        sep=',', save_sample=True, save_time=True, save_code=True, save_chan=True,\\\n",
    "                        save_trial_idx=False)"
   ]
  }
 ],
 "metadata": {
  "kernelspec": {
   "display_name": "Python 3 (ipykernel)",
   "language": "python",
   "name": "python3"
  },
  "language_info": {
   "codemirror_mode": {
    "name": "ipython",
    "version": 3
   },
   "file_extension": ".py",
   "mimetype": "text/x-python",
   "name": "python",
   "nbconvert_exporter": "python",
   "pygments_lexer": "ipython3",
   "version": "3.11.7"
  }
 },
 "nbformat": 4,
 "nbformat_minor": 4
}

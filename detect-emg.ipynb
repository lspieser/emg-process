{
 "cells": [
  {
   "cell_type": "markdown",
   "metadata": {},
   "source": [
    "Make the import"
   ]
  },
  {
   "cell_type": "code",
   "execution_count": 1,
   "metadata": {},
   "outputs": [],
   "source": [
    "import os\n",
    "import logging\n",
    "import numpy as np\n",
    "import mne\n",
    "import myonset as dbt"
   ]
  },
  {
   "cell_type": "markdown",
   "metadata": {},
   "source": [
    "Set the path"
   ]
  },
  {
   "cell_type": "code",
   "execution_count": 2,
   "metadata": {},
   "outputs": [],
   "source": [
    "path_bdf = os.path.join('.','bdf')\n",
    "path_mrk = os.path.join('.','automatic_detection')"
   ]
  },
  {
   "cell_type": "markdown",
   "metadata": {},
   "source": [
    "Set trigger id values: to adapt to your experiment"
   ]
  },
  {
   "cell_type": "code",
   "execution_count": 3,
   "metadata": {},
   "outputs": [],
   "source": [
    "#triggers values used for trial segmentation (e.g., stimulus or fixation cross)\n",
    "trig_id = {'red_left':42,'red_right':50,\\\n",
    "           'green_left':35,'green_right':38,\\\n",
    "           }\n",
    "\n",
    "#triggers values used for detected onset, offset and peak events\n",
    "emg_id = {'onset': 131, 'offset': 132, 'peak': 133}\n",
    "\n",
    "# list of response triggers, used to remove bursts detected after response \n",
    "resp_list =  [98,162] "
   ]
  },
  {
   "cell_type": "markdown",
   "metadata": {},
   "source": [
    "# Load the file"
   ]
  },
  {
   "cell_type": "markdown",
   "metadata": {},
   "source": [
    "Set EMG file name"
   ]
  },
  {
   "cell_type": "code",
   "execution_count": 4,
   "metadata": {},
   "outputs": [],
   "source": [
    "name_bdf  = 'C1.bdf'"
   ]
  },
  {
   "cell_type": "markdown",
   "metadata": {},
   "source": [
    "Extract file name and create log file"
   ]
  },
  {
   "cell_type": "code",
   "execution_count": 5,
   "metadata": {},
   "outputs": [
    {
     "name": "stdout",
     "output_type": "stream",
     "text": [
      "20\n"
     ]
    }
   ],
   "source": [
    "nameSubj = name_bdf.split('.')[0]\n",
    "fname = os.path.join(path_bdf,name_bdf)\n",
    "\n",
    "logName = os.path.join(path_bdf,nameSubj + '.log')\n",
    "logging.basicConfig(filename=logName, level=logging.INFO) # needed in jupyter notebook\n",
    "dbt.set_log_file(logName,overwrite=True)\n",
    "logging.info(\"Automatic onsets/offsets detection:\")"
   ]
  },
  {
   "cell_type": "markdown",
   "metadata": {},
   "source": [
    "Load raw data"
   ]
  },
  {
   "cell_type": "code",
   "execution_count": 6,
   "metadata": {},
   "outputs": [
    {
     "name": "stdout",
     "output_type": "stream",
     "text": [
      "Extracting EDF parameters from C:\\Users\\Laure_Spieser\\Nextcloud\\Documents\\myonset_public\\emg-process\\bdf\\C1.bdf...\n",
      "BDF file detected\n",
      "Setting channel info structure...\n",
      "Creating raw.info structure...\n",
      "Reading 0 ... 4212735  =      0.000 ...  2057.000 secs...\n"
     ]
    }
   ],
   "source": [
    "raw = mne.io.read_raw_bdf(fname, preload=True,stim_channel = 'Status')"
   ]
  },
  {
   "cell_type": "code",
   "execution_count": 7,
   "metadata": {
    "scrolled": true
   },
   "outputs": [
    {
     "data": {
      "text/html": [
       "<table class=\"table table-hover table-striped table-sm table-responsive small\">\n",
       "    <tr>\n",
       "        <th>Measurement date</th>\n",
       "        \n",
       "        <td>June 14, 2022  15:19:16 GMT</td>\n",
       "        \n",
       "    </tr>\n",
       "    <tr>\n",
       "        <th>Experimenter</th>\n",
       "        \n",
       "        <td>Unknown</td>\n",
       "        \n",
       "    </tr>\n",
       "        <th>Participant</th>\n",
       "        \n",
       "        <td>Unknown</td>\n",
       "        \n",
       "    </tr>\n",
       "    <tr>\n",
       "        <th>Digitized points</th>\n",
       "        \n",
       "        <td>Not available</td>\n",
       "        \n",
       "    </tr>\n",
       "    <tr>\n",
       "        <th>Good channels</th>\n",
       "        <td>6 EEG, 1 Stimulus</td>\n",
       "    </tr>\n",
       "    <tr>\n",
       "        <th>Bad channels</th>\n",
       "        <td>None</td>\n",
       "    </tr>\n",
       "    <tr>\n",
       "        <th>EOG channels</th>\n",
       "        <td>Not available</td>\n",
       "    </tr>\n",
       "    <tr>\n",
       "        <th>ECG channels</th>\n",
       "        <td>Not available</td>\n",
       "    \n",
       "    <tr>\n",
       "        <th>Sampling frequency</th>\n",
       "        <td>2048.00 Hz</td>\n",
       "    </tr>\n",
       "    \n",
       "    \n",
       "    <tr>\n",
       "        <th>Highpass</th>\n",
       "        <td>0.00 Hz</td>\n",
       "    </tr>\n",
       "    \n",
       "    \n",
       "    <tr>\n",
       "        <th>Lowpass</th>\n",
       "        <td>417.00 Hz</td>\n",
       "    </tr>\n",
       "    \n",
       "    \n",
       "    \n",
       "    <tr>\n",
       "        <th>Filenames</th>\n",
       "        <td>C1.bdf</td>\n",
       "    </tr>\n",
       "    \n",
       "    <tr>\n",
       "        <th>Duration</th>\n",
       "        <td>00:34:17 (HH:MM:SS)</td>\n",
       "    </tr>\n",
       "</table>"
      ],
      "text/plain": [
       "<RawEDF | C1.bdf, 7 x 4212736 (2057.0 s), ~225.0 MB, data loaded>"
      ]
     },
     "execution_count": 7,
     "metadata": {},
     "output_type": "execute_result"
    }
   ],
   "source": [
    "raw"
   ]
  },
  {
   "cell_type": "markdown",
   "metadata": {},
   "source": [
    "Extract events "
   ]
  },
  {
   "cell_type": "code",
   "execution_count": 8,
   "metadata": {},
   "outputs": [
    {
     "name": "stdout",
     "output_type": "stream",
     "text": [
      "Trigger channel has a non-zero initial value of 130816 (consider using initial_event=True to detect this event)\n",
      "1726 events found\n",
      "Event IDs: [65314 65315 65318 65322 65330 65343 65378 65407 65442 65472]\n"
     ]
    }
   ],
   "source": [
    "mne_events = mne.find_events(raw, shortest_event=1)"
   ]
  },
  {
   "cell_type": "markdown",
   "metadata": {},
   "source": [
    "Needed when default Status value is not zero."
   ]
  },
  {
   "cell_type": "code",
   "execution_count": 9,
   "metadata": {},
   "outputs": [],
   "source": [
    "#mne_events[:,2] = mne_events[:,2]-mne_events[:,1] \n",
    "mne_events[:,2] = mne_events[:,2]-mne_events[1,1] \n"
   ]
  },
  {
   "cell_type": "markdown",
   "metadata": {},
   "source": [
    "# Pre-process signal"
   ]
  },
  {
   "cell_type": "code",
   "execution_count": 10,
   "metadata": {},
   "outputs": [
    {
     "data": {
      "text/plain": [
       "['EXG1', 'EXG2', 'EXG3', 'EXG4', 'Erg1', 'Erg2', 'Status']"
      ]
     },
     "execution_count": 10,
     "metadata": {},
     "output_type": "execute_result"
    }
   ],
   "source": [
    "raw.info['ch_names']"
   ]
  },
  {
   "cell_type": "markdown",
   "metadata": {},
   "source": [
    "EMG bipolar reference "
   ]
  },
  {
   "cell_type": "code",
   "execution_count": 11,
   "metadata": {},
   "outputs": [
    {
     "name": "stdout",
     "output_type": "stream",
     "text": [
      "EEG channel type selected for re-referencing\n",
      "Creating RawArray with float64 data, n_channels=2, n_times=4212736\n",
      "    Range : 0 ... 4212735 =      0.000 ...  2057.000 secs\n",
      "Ready.\n",
      "Added the following bipolar channels:\n",
      "EMG_L, EMG_R\n"
     ]
    },
    {
     "data": {
      "text/html": [
       "<table class=\"table table-hover table-striped table-sm table-responsive small\">\n",
       "    <tr>\n",
       "        <th>Measurement date</th>\n",
       "        \n",
       "        <td>June 14, 2022  15:19:16 GMT</td>\n",
       "        \n",
       "    </tr>\n",
       "    <tr>\n",
       "        <th>Experimenter</th>\n",
       "        \n",
       "        <td>Unknown</td>\n",
       "        \n",
       "    </tr>\n",
       "        <th>Participant</th>\n",
       "        \n",
       "        <td>Unknown</td>\n",
       "        \n",
       "    </tr>\n",
       "    <tr>\n",
       "        <th>Digitized points</th>\n",
       "        \n",
       "        <td>0 points</td>\n",
       "        \n",
       "    </tr>\n",
       "    <tr>\n",
       "        <th>Good channels</th>\n",
       "        <td>4 EEG, 1 Stimulus</td>\n",
       "    </tr>\n",
       "    <tr>\n",
       "        <th>Bad channels</th>\n",
       "        <td>None</td>\n",
       "    </tr>\n",
       "    <tr>\n",
       "        <th>EOG channels</th>\n",
       "        <td>Not available</td>\n",
       "    </tr>\n",
       "    <tr>\n",
       "        <th>ECG channels</th>\n",
       "        <td>Not available</td>\n",
       "    \n",
       "    <tr>\n",
       "        <th>Sampling frequency</th>\n",
       "        <td>2048.00 Hz</td>\n",
       "    </tr>\n",
       "    \n",
       "    \n",
       "    <tr>\n",
       "        <th>Highpass</th>\n",
       "        <td>0.00 Hz</td>\n",
       "    </tr>\n",
       "    \n",
       "    \n",
       "    <tr>\n",
       "        <th>Lowpass</th>\n",
       "        <td>417.00 Hz</td>\n",
       "    </tr>\n",
       "    \n",
       "    \n",
       "    \n",
       "    <tr>\n",
       "        <th>Filenames</th>\n",
       "        <td>C1.bdf</td>\n",
       "    </tr>\n",
       "    \n",
       "    <tr>\n",
       "        <th>Duration</th>\n",
       "        <td>00:34:17 (HH:MM:SS)</td>\n",
       "    </tr>\n",
       "</table>"
      ],
      "text/plain": [
       "<RawEDF | C1.bdf, 5 x 4212736 (2057.0 s), ~160.7 MB, data loaded>"
      ]
     },
     "execution_count": 11,
     "metadata": {},
     "output_type": "execute_result"
    }
   ],
   "source": [
    "mne.set_bipolar_reference(raw,anode=['EXG1','EXG3'], cathode=['EXG2','EXG4'],ch_name=['EMG_L','EMG_R'],\\\n",
    "copy=False)"
   ]
  },
  {
   "cell_type": "markdown",
   "metadata": {},
   "source": [
    "Set channels"
   ]
  },
  {
   "cell_type": "code",
   "execution_count": 12,
   "metadata": {},
   "outputs": [
    {
     "name": "stderr",
     "output_type": "stream",
     "text": [
      "C:\\Users\\Laure_Spieser\\AppData\\Local\\Temp\\ipykernel_15496\\3513116623.py:2: RuntimeWarning: The unit for channel(s) Erg1, Erg2 has changed from V to NA.\n",
      "  raw.set_channel_types({'EMG_L':'emg',\n"
     ]
    }
   ],
   "source": [
    "raw.pick(['EMG_L','EMG_R','Erg1','Erg2'])\n",
    "raw.set_channel_types({'EMG_L':'emg',\n",
    "                       'EMG_R':'emg',\n",
    "                       'Erg1':'misc',\n",
    "                       'Erg2':'misc'})\n",
    "\n",
    "emg_channels_idx = {0: 'EMG_L', 1: 'EMG_R'}\n",
    "force_channels_idx = {2: 'Erg1', 3:'Erg2'}\n",
    "channel_names = list(emg_channels_idx.values())+list(force_channels_idx.values()) "
   ]
  },
  {
   "cell_type": "markdown",
   "metadata": {},
   "source": [
    "Filter EMG signals"
   ]
  },
  {
   "cell_type": "code",
   "execution_count": 13,
   "metadata": {},
   "outputs": [],
   "source": [
    "raw = dbt.use_mne.apply_filter(raw, ch_names = ['EMG_L','EMG_R'],low_cutoff = 10)\n",
    "logging.info(\"\\tHigh pass filtering of EMG traces at 10Hz\")"
   ]
  },
  {
   "cell_type": "markdown",
   "metadata": {},
   "source": [
    "Filter force signals (not necessary all the time)"
   ]
  },
  {
   "cell_type": "code",
   "execution_count": 14,
   "metadata": {},
   "outputs": [],
   "source": [
    "raw = dbt.use_mne.apply_filter(raw, ch_names = ['Erg1','Erg2'],high_cutoff = 40)  \n",
    "logging.info(\"\\tLow pass filtering of EMG traces at 40Hz\")"
   ]
  },
  {
   "cell_type": "markdown",
   "metadata": {},
   "source": [
    "Get pre-processed raw data"
   ]
  },
  {
   "cell_type": "code",
   "execution_count": 15,
   "metadata": {},
   "outputs": [],
   "source": [
    "data_raw = raw.get_data(['EMG_L','EMG_R','Erg1','Erg2'])"
   ]
  },
  {
   "cell_type": "markdown",
   "metadata": {},
   "source": [
    "# Segment based on events"
   ]
  },
  {
   "cell_type": "markdown",
   "metadata": {},
   "source": [
    "Put mne events in our events structure"
   ]
  },
  {
   "cell_type": "code",
   "execution_count": 16,
   "metadata": {},
   "outputs": [],
   "source": [
    "events = dbt.Events(sample=mne_events[:,0], code=mne_events[:,2], chan=[-1]*mne_events.shape[0],\\\n",
    "                    sf=raw.info['sfreq'])"
   ]
  },
  {
   "cell_type": "markdown",
   "metadata": {},
   "source": [
    "Define segmentation window"
   ]
  },
  {
   "cell_type": "code",
   "execution_count": 17,
   "metadata": {},
   "outputs": [],
   "source": [
    "tmin = -.5\n",
    "tmax = 1.5\n",
    "epoch_time = dbt.times(tmin,tmax,events.sf)\n",
    "t0 = dbt.find_times(0,epoch_time)\n",
    "tmax_sample = dbt.find_times(tmax,epoch_time)"
   ]
  },
  {
   "cell_type": "markdown",
   "metadata": {},
   "source": [
    "Segment and extract data epochs"
   ]
  },
  {
   "cell_type": "code",
   "execution_count": 18,
   "metadata": {},
   "outputs": [
    {
     "data": {
      "text/plain": [
       "2048.0"
      ]
     },
     "execution_count": 18,
     "metadata": {},
     "output_type": "execute_result"
    }
   ],
   "source": [
    "events.sf"
   ]
  },
  {
   "cell_type": "code",
   "execution_count": 19,
   "metadata": {
    "scrolled": true
   },
   "outputs": [
    {
     "name": "stdout",
     "output_type": "stream",
     "text": [
      "Found 512 epoch(s).\n"
     ]
    }
   ],
   "source": [
    "epochs_events = events.segment(code_t0=list(trig_id.values()), tmin=tmin, tmax=tmax)\n",
    "data_epochs = epochs_events.get_data(data_raw)"
   ]
  },
  {
   "cell_type": "markdown",
   "metadata": {},
   "source": [
    "# Run automatic detection"
   ]
  },
  {
   "cell_type": "markdown",
   "metadata": {},
   "source": [
    "Set threshold used for raw and Teager-Kaiser EMG var_onset detection"
   ]
  },
  {
   "cell_type": "code",
   "execution_count": 20,
   "metadata": {},
   "outputs": [],
   "source": [
    "thEMG_raw = 8 \n",
    "thEMG_tk = 10 \n",
    "th_force = 7\n",
    "\n",
    "logging.info(\"\\t\\t threshold for EMG left: \" + str(thEMG_raw))\n",
    "logging.info(\"\\t\\t threshold for EMG right: \" + str(thEMG_raw))        \n",
    "\n",
    "logging.info(\"\\t\\t threshold for EMG left Teager-Kaiser: \" + str(thEMG_tk))\n",
    "logging.info(\"\\t\\t threshold for EMG right Teager-Kaiser: \" + str(thEMG_tk))\n",
    "\n",
    "logging.info(\"\\t\\t threshold for force left: \" + str(th_force))\n",
    "logging.info(\"\\t\\t threshold for force right: \" + str(th_force))        "
   ]
  },
  {
   "cell_type": "markdown",
   "metadata": {},
   "source": [
    "Compute global variance, this will not be used most of the time"
   ]
  },
  {
   "cell_type": "code",
   "execution_count": 21,
   "metadata": {},
   "outputs": [],
   "source": [
    "mBlRaw,stBlRaw = dbt.global_var(data_epochs,epoch_time,cor_var = 2.5,use_tkeo = False)\n",
    "mBlTk,stBlTk = dbt.global_var(data_epochs,epoch_time,cor_var = 2.5,use_tkeo = True)"
   ]
  },
  {
   "cell_type": "markdown",
   "metadata": {},
   "source": [
    "Big loop doing the detection"
   ]
  },
  {
   "cell_type": "code",
   "execution_count": 22,
   "metadata": {},
   "outputs": [],
   "source": [
    "for e in range(epochs_events.nb_trials()):\n",
    "    # Onset and offset EMG detection\n",
    "    for c in emg_channels_idx.keys():\n",
    "        \n",
    "        current = data_epochs[e,c,:]\n",
    "        \n",
    "        #Lcal mBl and stBl are recommended, to use global values, use mBlRaw/mBlTk[c] and stBlRaw/stBlTk[c] computed above\n",
    "        onsets,offsets = dbt.get_onsets(current, epoch_time, sf=events.sf,\\\n",
    "                                        th_raw= thEMG_raw, use_raw=True, time_limit_raw=.025, min_samples_raw=5,\\\n",
    "                                        varying_min_raw=1, mbsl_raw=None, stbsl_raw=None, \\\n",
    "                                        th_tkeo= thEMG_tk, use_tkeo=True, time_limit_tkeo=.025,  min_samples_tkeo=5,\\\n",
    "                                        varying_min_tkeo=0, mbsl_tkeo=None, stbsl_tkeo=None)\n",
    "        \n",
    "        # Remove burst starting and ending before time 0\n",
    "        onsets = [onsets[b] for b in range(len(onsets)) if (offsets[b] > t0)]\n",
    "        offsets = [offsets[b] for b in range(len(offsets)) if (offsets[b] > t0)]\n",
    "        # If one onset remains before t0, put its latency to time 0\n",
    "        onsets = [np.max((b,t0+1)) for b in onsets]\n",
    "        \n",
    "        # Remove bursts starting after the first response\n",
    "        stim = epochs_events.list_evts_trials[e].find_events(code=list(trig_id.values()))\n",
    "        resp = epochs_events.list_evts_trials[e].find_events(code=resp_list)\n",
    "        if len(resp) > 0:\n",
    "            #latency of the first response after the first stimulus\n",
    "            resp_latency =  epochs_events.list_evts_trials[e].lat.sample[resp[resp > stim[0]][0]]\n",
    "        else: \n",
    "            resp_latency = tmax_sample # if no response, resp latency is equal to tmax\n",
    "        offsets = [offsets[b] for b in range(len(offsets)) if (onsets[b] < resp_latency)]\n",
    "        onsets = [onsets[b] for b in range(len(onsets)) if (onsets[b] < resp_latency)]\n",
    "\n",
    "        # Put in event structure\n",
    "        onsets_events = dbt.Events(sample=onsets, time=epoch_time[onsets],\\\n",
    "                                   code=[emg_id['onset']]*len(onsets), chan=[c]*len(onsets), sf=epochs_events.sf) \n",
    "        offsets_events = dbt.Events(sample=offsets, time=epoch_time[offsets],\\\n",
    "                                    code=[emg_id['offset']]*len(offsets), chan=[c]*len(offsets), sf=epochs_events.sf) \n",
    "        \n",
    "        # Add in epochs events\n",
    "        epochs_events.list_evts_trials[e].add_events(onsets_events)\n",
    "        epochs_events.list_evts_trials[e].add_events(offsets_events)\n",
    "        \n",
    "    # Onset and offset force detection\n",
    "    for c in force_channels_idx.keys():\n",
    "\n",
    "        current_force = data_epochs[e,c,:]\n",
    "        force_intervals = dbt.detector_var(current_force, epoch_time, th=th_force, time_limit=.050,\\\n",
    "                                           sf=epochs_events.sf, min_samples=15, varying_min=0,\\\n",
    "                                           use_derivative=True, moving_avg_size=10)\n",
    "\n",
    "        onsets_force = force_intervals[:,0]\n",
    "        offsets_force = force_intervals[:,1]\n",
    "           \n",
    "        # Remove intervals starting and ending before time 0\n",
    "        onsets_force = [onsets_force[b] for b in range(len(onsets_force)) if (offsets_force[b] > t0)]\n",
    "        offsets_force = [offsets_force[b] for b in range(len(offsets_force)) if (offsets_force[b] > t0)]\n",
    "        # If one onset remains before t0, put its latency to time 0\n",
    "        onsets_force = [np.max((b,t0+1)) for b in onsets_force]\n",
    "        \n",
    "        # Remove intervals starting after the first response\n",
    "        offsets_force = [offsets_force[b] for b in range(len(offsets_force)) if (onsets_force[b] < resp_latency)]\n",
    "        onsets_force = [onsets_force[b] for b in range(len(onsets_force)) if (onsets_force[b] < resp_latency)]\n",
    "\n",
    "        # Put in event structure\n",
    "        onsets_force_events = dbt.Events(sample=onsets_force, time=epoch_time[onsets_force], code=[emg_id['onset']]*len(onsets_force), chan=[c]*len(onsets_force), sf=epochs_events.sf) \n",
    "        offsets_force_events = dbt.Events(sample=offsets_force, time=epoch_time[offsets_force], code=[emg_id['offset']]*len(offsets_force), chan=[c]*len(offsets_force), sf=epochs_events.sf) \n",
    "\n",
    "        # Get force peaks\n",
    "        list_signals = dbt.get_signal_portions(current_force, onsets_force_events.lat.sample, offsets_force_events.lat.sample)\n",
    "        _,peak_sample = dbt.get_signal_max(list_signals)\n",
    "        peak_sample += onsets_force_events.lat.sample\n",
    "    \n",
    "        # Put in event structure\n",
    "        if len(peak_sample) > 0:\n",
    "            peaks_force_events = dbt.Events(sample=peak_sample, time=epoch_time[peak_sample], code=[emg_id['peak']]*len(peak_sample) , chan=[c]*len(peak_sample), sf=epochs_events.sf)\n",
    "        \n",
    "            # Add in epochs events\n",
    "            epochs_events.list_evts_trials[e].add_events(onsets_force_events)\n",
    "            epochs_events.list_evts_trials[e].add_events(offsets_force_events)\n",
    "            epochs_events.list_evts_trials[e].add_events(peaks_force_events)\n"
   ]
  },
  {
   "cell_type": "markdown",
   "metadata": {},
   "source": [
    "# Save in new marker file"
   ]
  },
  {
   "cell_type": "markdown",
   "metadata": {},
   "source": [
    "First put epoch events in continuous time"
   ]
  },
  {
   "cell_type": "code",
   "execution_count": 23,
   "metadata": {},
   "outputs": [
    {
     "name": "stdout",
     "output_type": "stream",
     "text": [
      "Checking for duplicates in events...\n",
      "0 event(s) removed.\n"
     ]
    }
   ],
   "source": [
    "continuous_events_with_detection = epochs_events.as_continuous(drop_duplic=True)[0]"
   ]
  },
  {
   "cell_type": "markdown",
   "metadata": {},
   "source": [
    "Add those to the original events"
   ]
  },
  {
   "cell_type": "code",
   "execution_count": 24,
   "metadata": {},
   "outputs": [
    {
     "name": "stdout",
     "output_type": "stream",
     "text": [
      "Checking for duplicates in events...\n",
      "1198 event(s) removed.\n"
     ]
    }
   ],
   "source": [
    "events.add_events(continuous_events_with_detection, drop_duplic=True)"
   ]
  },
  {
   "cell_type": "markdown",
   "metadata": {},
   "source": [
    "Save in folder path_mrk (defined above)"
   ]
  },
  {
   "cell_type": "code",
   "execution_count": 25,
   "metadata": {},
   "outputs": [],
   "source": [
    "fname_detected_mrk = os.path.join(path_mrk, nameSubj+'_detect_emg.csv')\n",
    "events.to_csv(fname_detected_mrk,\\\n",
    "              header='sample,time,code,chan', sep=',',\\\n",
    "              save_sample=True, save_time=True, save_code=True, save_chan=True)\n",
    "\n",
    "logging.info(\"\\tEvents saved in \" + fname_detected_mrk) \n"
   ]
  }
 ],
 "metadata": {
  "kernelspec": {
   "display_name": "Python 3 (ipykernel)",
   "language": "python",
   "name": "python3"
  },
  "language_info": {
   "codemirror_mode": {
    "name": "ipython",
    "version": 3
   },
   "file_extension": ".py",
   "mimetype": "text/x-python",
   "name": "python",
   "nbconvert_exporter": "python",
   "pygments_lexer": "ipython3",
   "version": "3.11.4"
  }
 },
 "nbformat": 4,
 "nbformat_minor": 2
}

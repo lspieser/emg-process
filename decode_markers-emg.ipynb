{
 "cells": [
  {
   "attachments": {},
   "cell_type": "markdown",
   "metadata": {},
   "source": [
    "# Example code to decode EMG markers files\n",
    "\n",
    "This notebook shows example code to decode markers files after EMG onset and offset detection. \n",
    "\n",
    "To use this code, event markers need to be stored in myonset Events structure. Using events from continuous data file is recommended (i.e., time is relative to the beginning of the EMG recording file). However, some options are available if you want to use EpochEvents object (i.e., time events is relative to the beginning of each trial). In this case, replace the function 'events_to_df' by 'epochevents_to_df'. \n",
    "\n",
    "This code assumed that your data can be 'epoched', i.e., divided in a succession of trials. It cannot be used as is to decode event markers in data that cannot be divided into trials. \n",
    "\n",
    "Output of this code is two dataframes containing data from all markers files contained in folder 'path_mrk'. Each dataframe line corresponds to one single trial from one marker file. The two dataframes contain redundant data, the 'full' dataframe contains all columns used at this processing step, the 'compact' dataframe contains only columns usually required for next step analysis.\n",
    "\n",
    "\n",
    "### Columns of compact dataframe:\n",
    "- column 0 : dataframe index\n",
    "- participant : participant name (defined by keys of pp_ins dictionnary) \n",
    "- group : group of this participant, defined in pp_group dictionnary\n",
    "- compatibility : trial compatibility\n",
    "- correct_resp : response expected for this stimulus (trial correct response)\n",
    "- accuracy : 'correct' if actual response corresponds to correct response, 'incorrect' otherwise \n",
    "- color : color of the presented stimulus\n",
    "- pos : position of the presented stimulus\n",
    "- emg_type : EMG type name, corresponding to sequence_onset (described below) from wich response code is removed. The prefix 'pure' indicates that only one onset was present, the prefix 'partial' indicates that no response was present. EMG is 'unclassified' and a warning is printed if :\n",
    "    1) some events are observed in onset sequence column after the response\n",
    "    2) the last onset channel in onset sequence column does not match the response (e.g., accuracy is 'correct' but last onset is 'incorrect').\n",
    "    \n",
    "    To remove warnings, set 'print_warning' to False in function 'classify_emg' \n",
    "- sequence_onset : sequence of EMG onset(s) and response in that trial. 'C' means EMG onset on correct side , 'I' means EMG onset on incorrect side and 'R' means mechanical response\n",
    "- rt : reaction time, time between stimulus and response events\n",
    "- premotor_time : time between stimulus and onset of last EMG preceding the response, on responding side (i.e., EMG EMG supposed to cause the mechanical response)\n",
    "- motor_time : time between onset of last EMG preceding the response, on responding side (i.e., EMG supposed to cause the mechanical response) and the mechanical response\n",
    "- lat_first_partial : latency of first partial EMG between stimulus and first EMG onset on non-responding side \n",
    "- stim_time : time (in s) corresponding to the occurence of this trial stimulus event in the original marker file (i.e., in continuous data)\n",
    "- onset_time : list of time onset(s) (in s) in this trial in the original marker file (i.e., in continuous data)\n",
    "- onset_chan : list of channel onset(s) in this trial in the original marker file (i.e., in continuous data)\n",
    "- offset_time : list of time offset(s) (in s) in this trial in the original marker file (i.e., in continuous data)\n",
    "- offset_chan : list of channel offset(s) in this trial in the original marker file (i.e., in continuous data)\n",
    "\n",
    "### Additional columns in full dataframe:\n",
    "- stim_code : code of stimulus event in this trial \n",
    "- stim_sample : time (in sample) corresponding to the occurence of this trial stimulus event in the original marker file (i.e., in continuous data)\n",
    "- resp_code : code of response event in this trial \n",
    "- resp_time\t: time (in s) corresponding to the occurence of this trial response event in the original marker file (i.e., in continuous data)\n",
    "- resp_sample : time (in sample) corresponding to the occurence of this trial response event in the original marker file (i.e., in continuous data)\n",
    "- onset_code : list of code(s) of onset(s) event(s) in this trial\n",
    "- onset_sample : list of time onset(s) (in sample) in this trial in the original marker file (i.e., in continuous data)\t\n",
    "- offset_code : list of code(s) of offset(s) event(s) in this trial\n",
    "- offset_sample : list of time offset(s) (in sample) in this trial in the original marker file (i.e., in continuous data)\t\n",
    "- other_code : list of code(s) of other event(s) in this trial (i.e., not stimulus, response, onset or offset)\n",
    "- other_chan : list of channel(s) of other event(s) in this trial (i.e., not stimulus, response, onset or offset)\n",
    "- other_time : list of time (in s) of other event(s) in this trial (i.e., not stimulus, response, onset or offset)\n",
    "- other_sample : list of time (in sample) of other event(s) in this trial (i.e., not stimulus, response, onset or offset)\n",
    "- onset_correct : list of time onset(s) (in s) occuring on the correct side in this trial in the original marker file (i.e., in continuous data)\n",
    "- offset_correct : list of time offset(s) (in s) occuring on the correct side in this trial in the original marker file (i.e., in continuous data)\n",
    "- onset_incorrect : list of time onset(s) (in s) occuring on the incorrect side in this trial in the original marker file (i.e., in continuous data)\n",
    "- offset_incorrect : list of time offset(s) (in s) occuring on the incorrect side in this trial in the original marker file (i.e., in continuous data)\n",
    "- onset_resp : list of time onset (in s) occuring on the response side, closest but anterior to the response (i.e., supposed to be the EMG onset burst leading to the mechanical response), in this trial in the original marker file (i.e., in continuous data)\n",
    "- offset_resp : list of time offset (in s) occuring on the response side, just after onset_resp (i.e., the end of the EMG burst leading to the mechanical response), in this trial in the original marker file (i.e., in continuous data)\n",
    "- onset_non_resp : list of time onset(s) (in s) other than onset_resp in this trial in the original marker file (i.e., in continuous data)\n",
    "- offset_non_resp : list of time offset(s) (in s) other than offset_resp in this trial in the original marker file (i.e., in continuous data)\n",
    "\n"
   ]
  },
  {
   "cell_type": "code",
   "execution_count": 1,
   "metadata": {},
   "outputs": [],
   "source": [
    "import os\n",
    "import pandas as pd\n",
    "import numpy as np\n",
    "import myonset as myo\n",
    "import eventsdf as evt"
   ]
  },
  {
   "cell_type": "markdown",
   "metadata": {},
   "source": [
    "Set the path and list all files"
   ]
  },
  {
   "cell_type": "code",
   "execution_count": 2,
   "metadata": {},
   "outputs": [],
   "source": [
    "path_mrk = os.path.join('.','corrected_detection')\n",
    "list_dir = os.listdir(path_mrk)\n",
    "\n",
    "# where to save output xlsx file\n",
    "path_output = os.path.join('.')\n",
    "\n",
    "# name of output xlsx\n",
    "fname_output = 'all_emg_markers.xlsx'\n"
   ]
  },
  {
   "cell_type": "markdown",
   "metadata": {},
   "source": [
    "Set some variables -> you must fill in the instruction dictionnary for each new participant"
   ]
  },
  {
   "cell_type": "code",
   "execution_count": 3,
   "metadata": {},
   "outputs": [],
   "source": [
    "# list of participant numbers and associated instructions\n",
    "pp_ins = {'C1' : 'red_left',\\\n",
    "          'C2' : 'red_right',\\\n",
    "          }"
   ]
  },
  {
   "cell_type": "markdown",
   "metadata": {},
   "source": [
    "Set pp_group if you have more than one group of participants"
   ]
  },
  {
   "cell_type": "code",
   "execution_count": 4,
   "metadata": {},
   "outputs": [],
   "source": [
    "pp_group = {'C1' : 'A',\\\n",
    "            'C2' : 'B',\\\n",
    "            }\n"
   ]
  },
  {
   "cell_type": "markdown",
   "metadata": {},
   "source": [
    "List participants"
   ]
  },
  {
   "cell_type": "code",
   "execution_count": 5,
   "metadata": {},
   "outputs": [],
   "source": [
    "list_pp = list(pp_ins.keys())"
   ]
  },
  {
   "cell_type": "markdown",
   "metadata": {},
   "source": [
    "## Set events codes"
   ]
  },
  {
   "cell_type": "markdown",
   "metadata": {},
   "source": [
    "### Stimulus events"
   ]
  },
  {
   "cell_type": "markdown",
   "metadata": {},
   "source": [
    "Set stimulus events codes"
   ]
  },
  {
   "cell_type": "code",
   "execution_count": 6,
   "metadata": {},
   "outputs": [],
   "source": [
    "stim_id = {'red_left':    35,\\\n",
    "           'red_right':   38,\\\n",
    "           'green_left':  42,\\\n",
    "           'green_right': 50}\n",
    "\n",
    "stim_codes = list(stim_id.values())"
   ]
  },
  {
   "cell_type": "markdown",
   "metadata": {},
   "source": [
    "Set codes_t0 id (i.e., events used for segmentation, like stimulus or fixation cross)"
   ]
  },
  {
   "cell_type": "code",
   "execution_count": 7,
   "metadata": {},
   "outputs": [],
   "source": [
    "# by default, use stimulus codes\n",
    "t0_codes = stim_codes"
   ]
  },
  {
   "cell_type": "markdown",
   "metadata": {},
   "source": [
    "If necessary, set more attributes or stimulus codes (e.g., to compute compatibility)"
   ]
  },
  {
   "cell_type": "code",
   "execution_count": 8,
   "metadata": {},
   "outputs": [],
   "source": [
    "stim_pos = {35: 'left', 38: 'right', 42: 'left', 50: 'right'}\n",
    "stim_color = {35: 'red', 38: 'red', 42: 'green', 50: 'green'}"
   ]
  },
  {
   "cell_type": "markdown",
   "metadata": {},
   "source": [
    "### EMG and reponse events"
   ]
  },
  {
   "cell_type": "markdown",
   "metadata": {},
   "source": [
    "Set response events codes"
   ]
  },
  {
   "cell_type": "code",
   "execution_count": 9,
   "metadata": {},
   "outputs": [],
   "source": [
    "resp_id = {'left':  98,\\\n",
    "           'right': 162}\n",
    "\n",
    "resp_codes = list(resp_id.values())"
   ]
  },
  {
   "cell_type": "markdown",
   "metadata": {},
   "source": [
    "Set EMG onset and offset events codes"
   ]
  },
  {
   "cell_type": "code",
   "execution_count": 10,
   "metadata": {},
   "outputs": [],
   "source": [
    "emg_id = {'onset':  131,\\\n",
    "          'offset': 132,\\\n",
    "          'peak':   133}"
   ]
  },
  {
   "cell_type": "markdown",
   "metadata": {},
   "source": [
    "### Stimulus, response and EMG channels associations"
   ]
  },
  {
   "cell_type": "markdown",
   "metadata": {},
   "source": [
    "Set correct stimulus-response association (may depend on the instuction)"
   ]
  },
  {
   "cell_type": "code",
   "execution_count": 11,
   "metadata": {},
   "outputs": [],
   "source": [
    "correct_stim_resp = {'red_left'  : {35: 162, 38: 162, 42: 98,  50: 98 },\\\n",
    "                     'red_right' : {35: 98,  38: 98,  42: 162, 50: 162}}\n"
   ]
  },
  {
   "cell_type": "markdown",
   "metadata": {},
   "source": [
    "Set the response-emg_chan association"
   ]
  },
  {
   "cell_type": "code",
   "execution_count": 12,
   "metadata": {},
   "outputs": [],
   "source": [
    "resp_emg_chan = {98: 0 , 162: 1}"
   ]
  },
  {
   "cell_type": "markdown",
   "metadata": {},
   "source": [
    "## Set signal sampling frequency"
   ]
  },
  {
   "cell_type": "markdown",
   "metadata": {},
   "source": [
    "Either globally (if you have the same sampling frequency for all participants), or individually"
   ]
  },
  {
   "cell_type": "code",
   "execution_count": 13,
   "metadata": {},
   "outputs": [],
   "source": [
    "# global\n",
    "#sf = 2048\n",
    "\n",
    "# individual\n",
    "sf = {'C1' : 2048,\\\n",
    "      'C2' : 1024,\\\n",
    "      }"
   ]
  },
  {
   "cell_type": "markdown",
   "metadata": {},
   "source": [
    "## Reads corrected events files and decodes events "
   ]
  },
  {
   "cell_type": "code",
   "execution_count": 14,
   "metadata": {},
   "outputs": [
    {
     "name": "stdout",
     "output_type": "stream",
     "text": [
      "Reading file C1_corrected_evts.csv\n",
      "Warning trial 1 : last onset channel does not match response\n",
      "Warning trial 4 : last onset channel does not match response\n",
      "Warning trial 67 : last onset channel does not match response\n",
      "Warning trial 71 : last onset channel does not match response\n",
      "Warning trial 77 : last onset channel does not match response\n",
      "Warning trial 104 : last onset channel does not match response\n",
      "Warning trial 287 : last onset channel does not match response\n",
      "Warning trial 369 : last onset channel does not match response\n",
      "Warning trial 450 : last onset channel does not match response\n",
      "Warning trial 468 : last onset channel does not match response\n",
      "Warning trial 487 : last onset channel does not match response\n",
      "Reading file C2_corrected_evts.csv\n",
      "Warning trial 1 : last onset channel does not match response\n",
      "Warning trial 4 : last onset channel does not match response\n",
      "Warning trial 67 : last onset channel does not match response\n",
      "Warning trial 71 : last onset channel does not match response\n",
      "Warning trial 77 : last onset channel does not match response\n",
      "Warning trial 104 : last onset channel does not match response\n",
      "Warning trial 287 : last onset channel does not match response\n",
      "Warning trial 369 : last onset channel does not match response\n",
      "Warning trial 450 : last onset channel does not match response\n",
      "Warning trial 468 : last onset channel does not match response\n",
      "Warning trial 487 : last onset channel does not match response\n"
     ]
    }
   ],
   "source": [
    "full_df = pd.DataFrame()\n",
    "for pp in list_pp :\n",
    "    \n",
    "    f = pp + '_corrected_evts.csv'\n",
    "    print('Reading file {}'.format(f))\n",
    "\n",
    "    pp_events = myo.load_continuous(os.path.join(path_mrk,f), sep=',', sf=sf[pp], col_sample=0, col_code=2, col_chan=3)\n",
    "\n",
    "    pp_df = evt.events_to_df(pp_events, t0_codes, stim_codes, resp_codes,\\\n",
    "                             onset_codes=emg_id['onset'], offset_codes=emg_id['offset'])\n",
    "   \n",
    "    pp_df = evt.decode_accuracy(pp_df, correct_stim_resp[pp_ins[pp]],\\\n",
    "                                resp_emg_chan)\n",
    "    pp_df = evt.classify_emg(pp_df)\n",
    "    \n",
    "    # include condition columns\n",
    "    pp_df['participant'] = [pp]*pp_df.shape[0]\n",
    "    pp_df['group'] = [pp_group[pp]]*pp_df.shape[0]\n",
    "    \n",
    "    for stim in stim_codes:\n",
    "        pp_df.loc[pp_df['stim_code'] == stim, 'color'] = stim_color[stim]\n",
    "        pp_df.loc[pp_df['stim_code'] == stim, 'pos'] = stim_pos[stim]\n",
    "        pp_df.loc[pp_df['stim_code'] == stim, 'correct_resp'] = {v: k for k, v in resp_id.items()}[correct_stim_resp[pp_ins[pp]][stim]]\n",
    "    \n",
    "    # append to big table\n",
    "    full_df = pd.concat((full_df,pp_df), ignore_index=True, sort=False)\n",
    "\n"
   ]
  },
  {
   "cell_type": "markdown",
   "metadata": {},
   "source": [
    "Define trial compatibility by comparing stimulus position and correct response columns"
   ]
  },
  {
   "cell_type": "code",
   "execution_count": 15,
   "metadata": {},
   "outputs": [],
   "source": [
    "full_df.loc[full_df['pos'] == full_df['correct_resp'],'compatibility'] = 'comp'\n",
    "full_df.loc[full_df['pos'] != full_df['correct_resp'],'compatibility'] = 'inc'"
   ]
  },
  {
   "cell_type": "markdown",
   "metadata": {},
   "source": [
    "Compute latencies (reation time, premotor time, motor time, and latency of first EMG onset on non-repsonding side)"
   ]
  },
  {
   "cell_type": "code",
   "execution_count": 16,
   "metadata": {},
   "outputs": [],
   "source": [
    "full_df['rt'] = full_df['resp_time'] - full_df['stim_time']\n",
    "full_df['premotor_time'] = np.array(myo.utils.utilsfunc.remove_list(full_df['onset_resp'])) - full_df['stim_time']\n",
    "full_df['motor_time'] = full_df['resp_time'] - np.array(myo.utils.utilsfunc.remove_list(full_df['onset_resp']))\n",
    "\n",
    "full_df['lat_first_partial'] = np.array(myo.utils.utilsfunc.remove_list(full_df['onset_non_resp'])) - full_df['stim_time']\n"
   ]
  },
  {
   "cell_type": "markdown",
   "metadata": {},
   "source": [
    "Re-order columns"
   ]
  },
  {
   "cell_type": "code",
   "execution_count": 17,
   "metadata": {},
   "outputs": [],
   "source": [
    "useful_columns = ['participant','group','compatibility','correct_resp','accuracy','color','pos',\\\n",
    "                  'emg_type','sequence_onset','rt','premotor_time','motor_time','lat_first_partial',\\\n",
    "                  'stim_time','onset_time','onset_chan','offset_time','offset_chan']\n",
    "\n",
    "other_columns = [ c for c in full_df.columns if c not in useful_columns]"
   ]
  },
  {
   "cell_type": "code",
   "execution_count": 18,
   "metadata": {},
   "outputs": [],
   "source": [
    "full_df = full_df[useful_columns + other_columns]"
   ]
  },
  {
   "cell_type": "markdown",
   "metadata": {},
   "source": [
    "Create a compact df with only useful columns"
   ]
  },
  {
   "cell_type": "code",
   "execution_count": 19,
   "metadata": {
    "scrolled": true
   },
   "outputs": [],
   "source": [
    "compact_df = full_df[useful_columns]"
   ]
  },
  {
   "cell_type": "markdown",
   "metadata": {},
   "source": [
    "Save both full and compact tables"
   ]
  },
  {
   "cell_type": "code",
   "execution_count": 20,
   "metadata": {},
   "outputs": [],
   "source": [
    "full_df.to_excel(os.path.join(path_output,fname_output[:-5]+'_full'+fname_output[-5:]))    \n",
    "compact_df.to_excel(os.path.join(path_output,fname_output[:-5]+'_compact'+fname_output[-5:]))  "
   ]
  },
  {
   "cell_type": "code",
   "execution_count": null,
   "metadata": {},
   "outputs": [],
   "source": []
  }
 ],
 "metadata": {
  "kernelspec": {
   "display_name": "Python 3 (ipykernel)",
   "language": "python",
   "name": "python3"
  },
  "language_info": {
   "codemirror_mode": {
    "name": "ipython",
    "version": 3
   },
   "file_extension": ".py",
   "mimetype": "text/x-python",
   "name": "python",
   "nbconvert_exporter": "python",
   "pygments_lexer": "ipython3",
   "version": "3.11.4"
  }
 },
 "nbformat": 4,
 "nbformat_minor": 4
}
